{
  "cells": [
    {
      "attachments": {},
      "cell_type": "markdown",
      "metadata": {
        "id": "8OnF6qsbDG1t"
      },
      "source": [
        "# PandasAI example notebook\n",
        "\n",
        "#### Pandas AI is a Python library that adds generative artificial intelligence capabilities to Pandas, the popular data analysis and manipulation tool.\n",
        "\n",
        "#### Here is a very simple notebook about how you could use it!"
      ]
    },
    {
      "cell_type": "markdown",
      "metadata": {
        "id": "-VQE9nGwDaiG"
      },
      "source": [
        "Install dependencies:"
      ]
    },
    {
      "cell_type": "code",
      "execution_count": null,
      "metadata": {
        "id": "qtqSnCgwDDCg"
      },
      "outputs": [],
      "source": [
        "!pip install pandasai"
      ]
    },
    {
      "cell_type": "markdown",
      "metadata": {
        "id": "DrrlU4QqDmxl"
      },
      "source": [
        "Import dependencies:"
      ]
    },
    {
      "cell_type": "code",
      "execution_count": null,
      "metadata": {
        "id": "ohPMkz4zDqxz"
      },
      "outputs": [],
      "source": [
        "import pandas as pd\n",
        "from pandasai import PandasAI\n",
        "from pandasai.llm.openai import OpenAI"
      ]
    },
    {
      "cell_type": "markdown",
      "metadata": {
        "id": "JAO_SzlyDr5x"
      },
      "source": [
        "Create an example dataframe using pandas:"
      ]
    },
    {
      "cell_type": "code",
      "execution_count": null,
      "metadata": {
        "id": "nyRo07nqD08l"
      },
      "outputs": [],
      "source": [
        "df = pd.DataFrame({\n",
        "    \"country\": [\"United States\", \"United Kingdom\", \"France\", \"Germany\", \"Italy\", \"Spain\", \"Canada\", \"Australia\", \"Japan\", \"China\"],\n",
        "    \"gdp\": [21400000, 2940000, 2830000, 3870000, 2160000, 1350000, 1780000, 1320000, 516000, 14000000],\n",
        "    \"happiness_index\": [7.3, 7.2, 6.5, 7.0, 6.0, 6.3, 7.3, 7.3, 5.9, 5.0]\n",
        "})"
      ]
    },
    {
      "cell_type": "markdown",
      "metadata": {
        "id": "WRKWFWSGD1tB"
      },
      "source": [
        "Instanciate the llm (in this case OpenAI). Enter your OpenAI api key"
      ]
    },
    {
      "cell_type": "code",
      "execution_count": null,
      "metadata": {
        "id": "MhByl8oxEJFH"
      },
      "outputs": [],
      "source": [
        "OPENAI_API_KEY = \"YOUR API KEY\"\n",
        "llm = OpenAI(api_token=OPENAI_API_KEY)"
      ]
    },
    {
      "cell_type": "markdown",
      "metadata": {
        "id": "aeTOQettEfWT"
      },
      "source": [
        "Instantiate PandasAI with the provided large language model"
      ]
    },
    {
      "cell_type": "code",
      "execution_count": null,
      "metadata": {
        "id": "HZnx0V18EkzS"
      },
      "outputs": [],
      "source": [
        "pandas_ai = PandasAI(llm)"
      ]
    },
    {
      "cell_type": "markdown",
      "metadata": {
        "id": "tWiHX40Hstll"
      },
      "source": [
        "For an example prompt, pass the dataframe and the prompt as arguments to .run()"
      ]
    },
    {
      "cell_type": "code",
      "execution_count": null,
      "metadata": {
        "id": "HD19qidetE02"
      },
      "outputs": [],
      "source": [
        "pandas_ai.run(df, prompt='Which are the 5 happiest countries?')"
      ]
    },
    {
      "cell_type": "markdown",
      "metadata": {
        "id": "D2BzTCNBb3-6"
      },
      "source": [
        "You can also show a chart, for example:"
      ]
    },
    {
      "cell_type": "code",
      "execution_count": null,
      "metadata": {
        "id": "XsCB5S4Nb9QK"
      },
      "outputs": [],
      "source": [
        "pandas_ai.run(df, \"Plot the histogram of countries showing for each the gpd, using different colors for each bar\")"
      ]
    }
  ],
  "metadata": {
    "colab": {
      "provenance": []
    },
    "kernelspec": {
      "display_name": "Python 3",
      "name": "python3"
    },
    "language_info": {
      "name": "python"
    }
  },
  "nbformat": 4,
  "nbformat_minor": 0
}
